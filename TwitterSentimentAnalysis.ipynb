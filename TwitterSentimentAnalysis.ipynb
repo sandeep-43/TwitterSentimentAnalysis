{
 "cells": [
  {
   "cell_type": "markdown",
   "metadata": {},
   "source": [
    "# Twitter Sentiment Analysis\n",
    "\n",
    "The following project uses python 3 to download the tweets, store them in mongoDB database and finally perform sentiment analysis on them."
   ]
  },
  {
   "cell_type": "markdown",
   "metadata": {},
   "source": [
    "### The Approach\n",
    "\n",
    "The tasks performed in this project are as following:\n",
    "1. Download the tweets.\n",
    "2. Save the downloaded(raw) tweets in a csv file.\n",
    "3. Import the csv file as a dataframe and clean the tweets column and other columns as well.\n",
    "4. Save the dataframe with clean columns as another csv file. This serves as a backup copy.\n",
    "5. Import the data from cleaned csv file, convert it into json format and save it mongoDB database.\n",
    "6. Import the tweets from mongodb database, perform sentiment analysis(classify them as positive, negative or neutral) and update the database with same information(as a new field)."
   ]
  },
  {
   "cell_type": "markdown",
   "metadata": {},
   "source": [
    "__Import libraries__\n",
    "\n",
    "We begin with importing all the required libraries for this project."
   ]
  },
  {
   "cell_type": "code",
   "execution_count": null,
   "metadata": {},
   "outputs": [],
   "source": [
    "import pymongo\n",
    "from pymongo import MongoClient\n",
    "import tweepy\n",
    "import csv\n",
    "import pandas as pd\n",
    "import json\n",
    "import re\n",
    "from textblob import TextBlob\n",
    "import jdc # a library to break down class into multiple cells in Jupyter Notebook"
   ]
  },
  {
   "cell_type": "markdown",
   "metadata": {},
   "source": [
    "__Define Class__\n",
    "\n",
    "Next, we define a class 'Twitter' to incorporate all the required functions for this project.\n",
    "We define a __init__ method and mention all the keys required to connect to twitter API"
   ]
  },
  {
   "cell_type": "code",
   "execution_count": null,
   "metadata": {},
   "outputs": [],
   "source": [
    "class Twitter:\n",
    "    #initializing the relevant keys for tweets downloads\n",
    "    def __init__(self):\n",
    "        self.consumer_key = 'Your_Consumer_Key'\n",
    "        self.consumer_secret = 'Your_Consumer_Secret'\n",
    "        self.access_token = 'Your_Access_Token'\n",
    "        self.access_token_secret = 'Your_Access_Token_Secret'"
   ]
  },
  {
   "cell_type": "markdown",
   "metadata": {},
   "source": [
    "__Search and Download Tweets__\n",
    "\n",
    "The searchTweets() method is defined to connect to twitter API, search for tweets relating to specific topic and save them in a csv file. This will be a raw file containing all the information regarding the tweets in an unformatted order."
   ]
  },
  {
   "cell_type": "code",
   "execution_count": null,
   "metadata": {},
   "outputs": [],
   "source": [
    "%%add_to Twitter\n",
    "def searchTweets(self):\n",
    "        auth = tweepy.OAuthHandler(self.consumer_key, self.consumer_secret)\n",
    "        auth.set_access_token(self.access_token, self.access_token_secret)\n",
    "        api = tweepy.API(auth,wait_on_rate_limit=True)\n",
    "        \n",
    "        csvFile = open('rawTweets.csv', 'a')\n",
    "        csvWriter = csv.writer(csvFile)\n",
    "        \n",
    "        #creating header for our csv file\n",
    "        writer = csv.DictWriter(csvFile, fieldnames = [\"Tweet ID\", \"Username\", \"User's ScreenName\",\"User's Location\",\"User's Description\",\"User's Language\",\"User's Followers\",\"User's Friends\",\"Tweet Creation Time\",\"Tweet Text\"])\n",
    "        writer.writeheader()\n",
    "        \n",
    "        #writing the downloaded tweets in csv file\n",
    "        for tweet in tweepy.Cursor(api.search,q=\"#aircanada\",lang=\"en\",since=\"2018-07-25\").items(100):\n",
    "            csvWriter.writerow([tweet.id,tweet.user.name.encode(\"utf-8\"),tweet.user.screen_name.encode(\"utf-8\"),tweet.user.location.encode(\"utf-8\"),tweet.user.description.encode(\"utf-8\"),tweet.user.lang.encode(\"utf-8\"),tweet.user.followers_count,tweet.user.friends_count,tweet.created_at, tweet.text.encode('utf-8')])\n",
    "        csvFile.close()"
   ]
  },
  {
   "cell_type": "markdown",
   "metadata": {},
   "source": [
    "**Clean Individual Tweets**\n",
    "\n",
    "cleanSingleTweet() method is written to perform cleaning operation using regular expressions on each tweet. \n",
    "This method is later called in cleanAllTweets() method."
   ]
  },
  {
   "cell_type": "code",
   "execution_count": null,
   "metadata": {},
   "outputs": [],
   "source": [
    "%%add_to Twitter\n",
    "def cleanSingleTweet(self,tweet):\n",
    "        return re.sub(r\"(@|:|#|\\\\t|\\\\n|https://.*|\\\\x\\S+)\",\"\",tweet)"
   ]
  },
  {
   "cell_type": "markdown",
   "metadata": {},
   "source": [
    "__Clean Entire Data__\n",
    "\n",
    "cleanAllTweets() method cleans all the fields as well as the tweets field to be used later for sentiment analysis. This cleaned data is stored as a csv file."
   ]
  },
  {
   "cell_type": "code",
   "execution_count": null,
   "metadata": {},
   "outputs": [],
   "source": [
    "%%add_to Twitter\n",
    "def cleanAllTweets(self):     \n",
    "        df = pd.read_csv(\"rawTweets.csv\")              #read csv with pandas df\n",
    "        df[\"Username\"]= df[\"Username\"].str[2:-1]       #remove unwanted letters such as 'b'\n",
    "        df[\"User's ScreenName\"]= df[\"User's ScreenName\"].str[2:-1]\n",
    "        df[\"User's Location\"]=df[\"User's Location\"].str[2:-1]\n",
    "        df[\"User's Description\"]=df[\"User's Description\"].str[2:-1]\n",
    "        df[\"User's Language\"]=df[\"User's Language\"].str[2:-1]\n",
    "        df[\"Tweet Text\"]=df[\"Tweet Text\"].str[2:-1]\n",
    "        \n",
    "        df[\"Clean Tweet Text\"] = df[\"Tweet Text\"].apply(self.cleanSingleTweet)\n",
    "        \n",
    "        #print(df.head())     #Uncomment to check the contents of the dataframe\n",
    "        df.to_csv(\"cleanTweets.csv\", index = False) #Save the cleaned tweets in csv file"
   ]
  },
  {
   "cell_type": "markdown",
   "metadata": {},
   "source": [
    "__Save Data into MongoDB Database__\n",
    "\n",
    "The cleaned csv file is imported as a pandas dataframe. The dataframe is converted to json format. A connection is established with mongodb and a new database and collection is created. The json format data is then inserted to the mongoDB database."
   ]
  },
  {
   "cell_type": "code",
   "execution_count": null,
   "metadata": {},
   "outputs": [],
   "source": [
    "%%add_to Twitter\n",
    "def saveTweetsToDB(self):\n",
    "        #read from csv and save the contents in desired database (mongoDB in this case)\n",
    "        client = MongoClient('localhost', 27017)  \n",
    "        myDB = client['twitterDB'] \n",
    "        collection_name = 'tweets_collection' \n",
    "        db_cm = myDB[collection_name]\n",
    "        \n",
    "        data = pd.read_csv(\"cleanTweets.csv\")\n",
    "        data_json = json.loads(data.to_json(orient='records'))\n",
    "        db_cm.remove()\n",
    "        db_cm.insert(data_json)"
   ]
  },
  {
   "cell_type": "markdown",
   "metadata": {},
   "source": [
    "__Sentiment Analysis of Individual Tweet__\n",
    "\n",
    "sentimentAnalysis() method takes single tweet as input and returns a result (positive negative or neutral) based on the polarity generated using textblob library."
   ]
  },
  {
   "cell_type": "code",
   "execution_count": null,
   "metadata": {},
   "outputs": [],
   "source": [
    "%%add_to Twitter\n",
    "def sentimentAnalysis(self,tweet):  #a function to calculate the polarity in order to determine the sentiment of the tweet\n",
    "        analysis = TextBlob(tweet)\n",
    "        tweetPolarity = analysis.sentiment.polarity\n",
    "        if tweetPolarity > 0:\n",
    "            return 'Positive'\n",
    "        elif tweetPolarity < 0:\n",
    "            return 'Negative'\n",
    "        else:\n",
    "            return 'Neutral'"
   ]
  },
  {
   "cell_type": "markdown",
   "metadata": {},
   "source": [
    "__Sentiment Analysis of all Tweets__\n",
    "\n",
    "allTweetsAnalysis() method is used to extract all the tweets from the database and perform sentiment analysis on them. Finally, a new field representing the sentiment of each tweet is generated and the mongodb collection is updated."
   ]
  },
  {
   "cell_type": "code",
   "execution_count": null,
   "metadata": {},
   "outputs": [],
   "source": [
    "%%add_to Twitter\n",
    "def allTweetsAnalysis(self):\n",
    "        client = MongoClient('localhost', 27017)\n",
    "        #allDBs = client.list_database_names()\n",
    "        myDB = client['twitterDB']\n",
    "        collection_name = 'tweets_collection'\n",
    "        dbCollection = myDB[collection_name]\n",
    "        \n",
    "        documents =dbCollection.find()\n",
    "        #print(documents)\n",
    "        \n",
    "        #tweet = [] #Use these lists if you want to check sentiment analysis performed by textblob\n",
    "        #result = []\n",
    "        for document in documents:\n",
    "            tempPolarity = self.sentimentAnalysis(document[\"Tweet Text\"])\n",
    "            dbCollection.update({\"_id\": document[\"_id\"]}, {\"$set\": {\"SentimentAnalysis\": tempPolarity}})\n",
    "            #tweet.append(document['Tweet Text'])\n",
    "            #result.append(tempPolarity)\n",
    "        #print(result)\n",
    "\n",
    "#End of class 'Twitter'"
   ]
  },
  {
   "cell_type": "markdown",
   "metadata": {},
   "source": [
    "__Calling the main() method__\n",
    "\n",
    "Lastly, we define main() method to declare the object of 'Twitter' class. We finally call main() method which in turn calls the relevant methods defined in class Twitter."
   ]
  },
  {
   "cell_type": "code",
   "execution_count": null,
   "metadata": {},
   "outputs": [],
   "source": [
    "def main():\n",
    "    t = Twitter()\n",
    "    t.searchTweets()\n",
    "    t.cleanAllTweets()\n",
    "    t.saveTweetsToDB()\n",
    "    t.allTweetsAnalysis()\n",
    "main()"
   ]
  }
 ],
 "metadata": {
  "celltoolbar": "Raw Cell Format",
  "kernelspec": {
   "display_name": "Python 3",
   "language": "python",
   "name": "python3"
  },
  "language_info": {
   "codemirror_mode": {
    "name": "ipython",
    "version": 3
   },
   "file_extension": ".py",
   "mimetype": "text/x-python",
   "name": "python",
   "nbconvert_exporter": "python",
   "pygments_lexer": "ipython3",
   "version": "3.6.4"
  }
 },
 "nbformat": 4,
 "nbformat_minor": 2
}
